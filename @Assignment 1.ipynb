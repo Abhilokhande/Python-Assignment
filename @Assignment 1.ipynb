{
 "cells": [
  {
   "cell_type": "code",
   "execution_count": 1,
   "metadata": {},
   "outputs": [
    {
     "name": "stdout",
     "output_type": "stream",
     "text": [
      "Enter the height10\n",
      "Enter the breath5\n",
      "Area of Triangle: 25.0\n"
     ]
    }
   ],
   "source": [
    "\n",
    "#Area of triangle\n",
    "A=int(input(\"Enter the height\"))\n",
    "B=int(input(\"Enter the breath\"))\n",
    "C=0.5*A*B\n",
    "print(\"Area of Triangle:\",C)"
   ]
  },
  {
   "cell_type": "code",
   "execution_count": 2,
   "metadata": {},
   "outputs": [
    {
     "name": "stdout",
     "output_type": "stream",
     "text": [
      "Enter No15\n",
      "Enter No26\n",
      "No1: 5\n",
      "No2: 5\n"
     ]
    }
   ],
   "source": [
    "A=int(input(\"Enter No1\"))\n",
    "B=int(input(\"Enter No2\"))\n",
    "C=A\n",
    "A=B\n",
    "B=C\n",
    "print(\"No1:\",B)\n",
    "print(\"No2:\",C)\n"
   ]
  },
  {
   "cell_type": "code",
   "execution_count": 6,
   "metadata": {},
   "outputs": [
    {
     "name": "stdout",
     "output_type": "stream",
     "text": [
      "random number: 13\n"
     ]
    }
   ],
   "source": [
    "import random\n",
    "print(\"random number:\",random.randint(10,100))"
   ]
  },
  {
   "cell_type": "code",
   "execution_count": 7,
   "metadata": {},
   "outputs": [
    {
     "name": "stdout",
     "output_type": "stream",
     "text": [
      "Enter the number to check5\n",
      "Number is Positive No\n"
     ]
    }
   ],
   "source": [
    "#Check number is positive nagetive or zero \n",
    "A=int(input(\"Enter the number to check\"))\n",
    "if(A<0):\n",
    "    print(\"Number is Negetive No\")\n",
    "elif(A>0):\n",
    "    print(\"Number is Positive No\")\n",
    "else:\n",
    "    print(\"Number in Zero\")"
   ]
  },
  {
   "cell_type": "code",
   "execution_count": 8,
   "metadata": {},
   "outputs": [
    {
     "name": "stdout",
     "output_type": "stream",
     "text": [
      "Enter the number55\n",
      "The number is odd\n"
     ]
    }
   ],
   "source": [
    "#odd or even no...\n",
    "A=int(input(\"Enter the number\"))\n",
    "if(A%2==0):\n",
    "    print(\"The number is Even\")\n",
    "else:\n",
    "    print(\"The number is odd\")\n",
    "    "
   ]
  },
  {
   "cell_type": "code",
   "execution_count": 10,
   "metadata": {},
   "outputs": [
    {
     "name": "stdout",
     "output_type": "stream",
     "text": [
      "Enter the number to check::::7\n",
      "Number is prime number\n"
     ]
    }
   ],
   "source": [
    "#check no is prime or not\n",
    "A=int(input(\"Enter the number to check::::\"))\n",
    "S=0\n",
    "B=A\n",
    "for i in range(1,B):\n",
    "    if(A%2==0):\n",
    "        S=S+i\n",
    "if(S==0):\n",
    "    print(\"Number is prime number\")\n",
    "else:\n",
    "    print(\"Number is not a prime number\")"
   ]
  },
  {
   "cell_type": "code",
   "execution_count": 16,
   "metadata": {},
   "outputs": [
    {
     "name": "stdout",
     "output_type": "stream",
     "text": [
      "Enter the number371\n",
      "Number is Armstrong number\n"
     ]
    }
   ],
   "source": [
    "3#Check no is armstrong no or not\n",
    "n=int(input(\"Enter the number\"))\n",
    "a=len(str(n))\n",
    "n1=n\n",
    "s=0\n",
    "while n>0:\n",
    "    b=n%10\n",
    "    s=s+b**a\n",
    "    n=n//10\n",
    "if(n1==s):\n",
    "    print(\"Number is Armstrong number\")\n",
    "else:\n",
    "    print(\"number is not armstrong\")\n"
   ]
  },
  {
   "cell_type": "code",
   "execution_count": 17,
   "metadata": {},
   "outputs": [
    {
     "name": "stdout",
     "output_type": "stream",
     "text": [
      "Enter the number5\n",
      "Factorialof number is : 120\n"
     ]
    }
   ],
   "source": [
    "#factorial of number\n",
    "a=int(input(\"Enter the number\"))\n",
    "f=1\n",
    "for i in range(1,a+1):\n",
    "    f=f*i\n",
    "print(\"Factorialof number is :\",f)"
   ]
  },
  {
   "cell_type": "code",
   "execution_count": null,
   "metadata": {},
   "outputs": [],
   "source": []
  }
 ],
 "metadata": {
  "kernelspec": {
   "display_name": "Python 3",
   "language": "python",
   "name": "python3"
  },
  "language_info": {
   "codemirror_mode": {
    "name": "ipython",
    "version": 3
   },
   "file_extension": ".py",
   "mimetype": "text/x-python",
   "name": "python",
   "nbconvert_exporter": "python",
   "pygments_lexer": "ipython3",
   "version": "3.8.10"
  }
 },
 "nbformat": 4,
 "nbformat_minor": 4
}
