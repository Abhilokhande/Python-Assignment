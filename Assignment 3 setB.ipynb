{
 "cells": [
  {
   "cell_type": "code",
   "execution_count": 1,
   "metadata": {},
   "outputs": [
    {
     "name": "stdout",
     "output_type": "stream",
     "text": [
      "[2, 3, 5, 4, 6, 9, 8, 7]\n"
     ]
    }
   ],
   "source": [
    "#remove dublicates fronm list\n",
    "A=[2,3,5,4,4,4,4,5,5,6,9,8,7,3,2]\n",
    "B=[]\n",
    "for i in A:\n",
    "   if i not in B:\n",
    "       B.append(i)\n",
    "print(B)"
   ]
  },
  {
   "cell_type": "code",
   "execution_count": 2,
   "metadata": {},
   "outputs": [
    {
     "name": "stdout",
     "output_type": "stream",
     "text": [
      "List is empty\n"
     ]
    }
   ],
   "source": [
    "#List isempty or not\n",
    "A=[]\n",
    "B=len(A)\n",
    "if(B==0):\n",
    "    print(\"List is empty\")\n",
    "else:\n",
    "    print(\"List contain elemants\")"
   ]
  },
  {
   "cell_type": "code",
   "execution_count": 3,
   "metadata": {},
   "outputs": [
    {
     "name": "stdout",
     "output_type": "stream",
     "text": [
      "(1, 2, 3, 4)\n"
     ]
    }
   ],
   "source": [
    "#convert list into tuple\n",
    "def convert(list):\n",
    "    return tuple(list)\n",
    "list = [1, 2, 3, 4]\n",
    "print(convert(list))"
   ]
  },
  {
   "cell_type": "code",
   "execution_count": 4,
   "metadata": {},
   "outputs": [
    {
     "name": "stdout",
     "output_type": "stream",
     "text": [
      "(1, 2, 4, 5)\n"
     ]
    }
   ],
   "source": [
    "#remove item from tuple\n",
    "\"\"\" we cannot change the elements in a tuple. It means that we cannot\n",
    "delete or remove items from a tuple.\n",
    "Deleting a tuple entirely, however, is possible using the keyword del \"\"\"\n",
    "a = (1, 2, 3, 4, 5)\n",
    "b = a[:2] + a[3:]\n",
    "print(b)"
   ]
  },
  {
   "cell_type": "code",
   "execution_count": 5,
   "metadata": {},
   "outputs": [
    {
     "name": "stdout",
     "output_type": "stream",
     "text": [
      "('a', 'b', 'c', 'd', 'e', 'f')\n",
      "('b', 'd', 'f', 'h')\n",
      "('j', 'h')\n"
     ]
    }
   ],
   "source": [
    "#Slice Tuple \n",
    "#tuple[Start : Stop : Stride]\n",
    "A= ('a','b','c','d','e','f','g','h','i','j')\n",
    "print(A[0:6])\n",
    "print(A[1:9:2])\n",
    "print(A[-1:-5:-2])"
   ]
  },
  {
   "cell_type": "code",
   "execution_count": 6,
   "metadata": {},
   "outputs": [
    {
     "name": "stdout",
     "output_type": "stream",
     "text": [
      "Lenght of tuple is: 10\n"
     ]
    }
   ],
   "source": [
    "#Find lenght of the function\n",
    "# use lenght function(len(tuple))\n",
    "A=(1,2,3,4,5,6,7,8,9,0)\n",
    "print(\"Lenght of tuple is:\",len(A))"
   ]
  },
  {
   "cell_type": "code",
   "execution_count": 8,
   "metadata": {},
   "outputs": [],
   "source": [
    "#Is set a subset of another set or not\n",
    "A={1,2,3,4,5,6,7,8,9,0}\n",
    "B={1,2,3,4,5}\n",
    "if(A.issubset(B)):\n",
    "    print(\"A is subset of B\")\n",
    "                            #use function issubset"
   ]
  },
  {
   "cell_type": "code",
   "execution_count": 10,
   "metadata": {},
   "outputs": [
    {
     "name": "stdout",
     "output_type": "stream",
     "text": [
      "Maximum value in set is: 95\n",
      "Minimum value in set is: 1\n"
     ]
    }
   ],
   "source": [
    "#Find max and min value in set\n",
    "A={1,88,66,51,95,42,82,69,36,58}\n",
    "B=max(A)\n",
    "C=min(A)\n",
    "print(\"Maximum value in set is:\",B)\n",
    "print(\"Minimum value in set is:\",C)\n",
    "#use max(set) to find maximum element in set \n",
    "#use min(set) to find minimum element in set\n",
    "\n"
   ]
  },
  {
   "cell_type": "code",
   "execution_count": 13,
   "metadata": {},
   "outputs": [
    {
     "name": "stdout",
     "output_type": "stream",
     "text": [
      "Lenght of set A is : 10\n"
     ]
    }
   ],
   "source": [
    "#Find length of set\n",
    "A={1,2,3,4,5,6,9,8,7,8,9,10}\n",
    "B=len(A)\n",
    "print(\"Lenght of set A is :\",B)\n",
    "#use len(set) function to find lenght of perticular set"
   ]
  },
  {
   "cell_type": "code",
   "execution_count": 14,
   "metadata": {},
   "outputs": [
    {
     "name": "stdout",
     "output_type": "stream",
     "text": [
      "{'a': 10, 'b': 8, 'd': 6, 'c': 4}\n"
     ]
    }
   ],
   "source": [
    "#Merge to dictionary\n",
    "A = {'a': 10, 'b': 8}\n",
    "B = {'d': 6, 'c': 4}\n",
    "A.update(B)\n",
    "print(A)\n",
    "#use update function to merge two dictionary"
   ]
  },
  {
   "cell_type": "code",
   "execution_count": null,
   "metadata": {},
   "outputs": [],
   "source": []
  }
 ],
 "metadata": {
  "kernelspec": {
   "display_name": "Python 3",
   "language": "python",
   "name": "python3"
  },
  "language_info": {
   "codemirror_mode": {
    "name": "ipython",
    "version": 3
   },
   "file_extension": ".py",
   "mimetype": "text/x-python",
   "name": "python",
   "nbconvert_exporter": "python",
   "pygments_lexer": "ipython3",
   "version": "3.8.10"
  }
 },
 "nbformat": 4,
 "nbformat_minor": 4
}
