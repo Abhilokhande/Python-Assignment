{
 "cells": [
  {
   "cell_type": "code",
   "execution_count": 1,
   "metadata": {},
   "outputs": [
    {
     "name": "stdout",
     "output_type": "stream",
     "text": [
      "Sum of Elements in A: 44\n"
     ]
    }
   ],
   "source": [
    "#sum of element in list\n",
    "A=[5,3,8,9,5,6,8]\n",
    "B=sum(A)\n",
    "print(\"Sum of Elements in A:\",B)\n"
   ]
  },
  {
   "cell_type": "code",
   "execution_count": 2,
   "metadata": {},
   "outputs": [
    {
     "name": "stdout",
     "output_type": "stream",
     "text": [
      "Multiplication of Elements in A: 259200\n"
     ]
    }
   ],
   "source": [
    "#Multiplication of elament in list\n",
    "A=[5,3,8,9,5,6,8]\n",
    "B=1\n",
    "for i in A:\n",
    "    B=B*i\n",
    "print(\"Multiplication of Elements in A:\",B)"
   ]
  },
  {
   "cell_type": "code",
   "execution_count": 3,
   "metadata": {},
   "outputs": [
    {
     "name": "stdout",
     "output_type": "stream",
     "text": [
      "after sorting= [(40, 10), (10, 20), (24, 34), (30, 40)]\n"
     ]
    }
   ],
   "source": [
    "#sort element in list\n",
    "def last(n):\n",
    "    return n[-1]\n",
    "\n",
    "def incr(list):\n",
    "    return sorted(list,key=last)\n",
    "\n",
    "list=[(10,20),(30,40),(40,10),(24,34)]\n",
    "print(\"after sorting=\",incr(list))"
   ]
  },
  {
   "cell_type": "code",
   "execution_count": 4,
   "metadata": {},
   "outputs": [
    {
     "name": "stdout",
     "output_type": "stream",
     "text": [
      "('abhi', 'ram', 'omphoooooo', 55, '55aa')\n"
     ]
    }
   ],
   "source": [
    "#create tuple\n",
    "A=(\"abhi\",\"ram\",\"omphoooooo\",55,\"55aa\")\n",
    "print(A)"
   ]
  },
  {
   "cell_type": "code",
   "execution_count": 6,
   "metadata": {},
   "outputs": [
    {
     "name": "stdout",
     "output_type": "stream",
     "text": [
      "(2, 5, 6, 8, 1, 9, 2, 71, 2)\n",
      "(2.2, 22.5, 22.6, 88.6, 22.01, 33.05)\n",
      "('A', 'B', 'C', 'D', 'E', 'F')\n",
      "('Abhi', 'Ram', 'JAi')\n",
      "('Abhi', 10, 10.3, '10aaa', 'A')\n"
     ]
    }
   ],
   "source": [
    "#tuple with different data types\n",
    "#Numeric Tupple\n",
    "A=(2,5,6,8,1,9,2,71,2)\n",
    "print(A)\n",
    "#Float Tuple\n",
    "B=(2.2,22.5,22.6,88.6,22.01,33.05)\n",
    "print(B)\n",
    "#Character Tuple\n",
    "C=(\"A\",\"B\",\"C\",\"D\",\"E\",\"F\")\n",
    "print(C)\n",
    "#String Tuple\n",
    "D=(\"Abhi\",\"Ram\",\"JAi\")\n",
    "print(D)\n",
    "#Mixed Tuple\n",
    "E=(\"Abhi\",10,10.3,\"10aaa\",\"A\")\n",
    "print(E)"
   ]
  },
  {
   "cell_type": "code",
   "execution_count": 7,
   "metadata": {},
   "outputs": [
    {
     "name": "stdout",
     "output_type": "stream",
     "text": [
      "Tuple is empty\n"
     ]
    }
   ],
   "source": [
    "# Check tuple is empty\n",
    "A=()\n",
    "if(len(A)==0):\n",
    "    print(\"Tuple is empty\")\n",
    "else:\n",
    "    print(\"Tuple Contain Elements\")"
   ]
  },
  {
   "cell_type": "code",
   "execution_count": 8,
   "metadata": {},
   "outputs": [
    {
     "name": "stdout",
     "output_type": "stream",
     "text": [
      "{2, 3, 5, 6, 7, 8, 9, 44}\n",
      "{'d', 'b', 'f', 'c', 'h', 'e', 'g', 'a'}\n",
      "{'JAi', 'ram'}\n",
      "{}\n",
      "{1, 5.5, 'dd', (1, 2, 3, 4), 'Abhi'}\n"
     ]
    }
   ],
   "source": [
    " #set contain group of all types of value\n",
    "A={2,3,5,6,8,9,6,6,7,44}\n",
    "print(A)\n",
    "B={\"a\",\"b\",\"c\",\"d\",\"e\",\"f\",\"g\",\"h\"}\n",
    "print(B)\n",
    "C={\"ram\",\"JAi\"}\n",
    "print(C)\n",
    "#Empty set                                \n",
    "D={}\n",
    "print(D)\n",
    "#mix vallue set\n",
    "Mix={1,\"Abhi\",5.5,\"dd\",(1,2,3,4)}\n",
    "print(Mix)"
   ]
  },
  {
   "cell_type": "code",
   "execution_count": 9,
   "metadata": {},
   "outputs": [
    {
     "name": "stdout",
     "output_type": "stream",
     "text": [
      "{1, 2, (1, 5, 6, 9), 'rbnb', 'Abhi'}\n",
      "{1, 2, 5, 6, 8, 9, (1, 5, 6, 9), 55, 'rbnb', 'Abhi'}\n",
      "{1, 2, 5, 6, 8, 9, (1, 5, 6, 9), 55, 'rbnb', 'Abhi'}\n",
      "{1, 5, 6, 8, 9, (1, 5, 6, 9), 55, 'rbnb', 'Abhi'}\n",
      "{1, 66, 99, 2, 5, 6, 8, 9, (1, 5, 6, 9), 55, 88, 'rbnb', 'Abhi'}\n"
     ]
    }
   ],
   "source": [
    "#iteration over set\n",
    "A={1,2,\"rbnb\",(1,5,6,9),\"Abhi\"}\n",
    "print(A)\n",
    "A.add(55)\n",
    "A.update([5,6,9,8])\n",
    "print(A)\n",
    "A.discard(\"rbmb\")\n",
    "print(A)\n",
    "A.remove(2)\n",
    "print(A)\n",
    "B={99,88,66,55,5,\"rbnb\",2}\n",
    "C=A.union(B)\n",
    "print(C)"
   ]
  },
  {
   "cell_type": "code",
   "execution_count": 10,
   "metadata": {},
   "outputs": [
    {
     "name": "stdout",
     "output_type": "stream",
     "text": [
      "Set A {32, 1, 2, 4, 5, 6, 586, 85}\n",
      "Set B {32, 1, 2, 5, 8, 15, 82, 85}\n",
      "Set difference between A and B {586, 4, 6}\n"
     ]
    }
   ],
   "source": [
    "#Program to create set difference\n",
    "A={1,32,5,6,2,4,586,85}\n",
    "B={2,5,32,5,1,8,15,15,2,82,85}\n",
    "print(\"Set A\",A)\n",
    "print(\"Set B\",B)\n",
    "C=A.difference(B)\n",
    "print(\"Set difference between A and B\",C)\n"
   ]
  },
  {
   "cell_type": "code",
   "execution_count": 11,
   "metadata": {},
   "outputs": [
    {
     "name": "stdout",
     "output_type": "stream",
     "text": [
      "{9: 'Abhi', 82: 'Name', 2: 'dictionary', 99: 'ram'}\n"
     ]
    }
   ],
   "source": [
    "#Sort dictionary by value\n",
    "# Dictionary contain key and value\n",
    "A={82:\"Name\",99:\"ram\",2:\"dictionary\",9:\"Abhi\"}\n",
    "sorted_values = sorted(A.values()) # Sort the values\n",
    "sorted_dict = {}\n",
    "\n",
    "for i in sorted_values:\n",
    "    for k in A.keys():\n",
    "        if A[k] == i:\n",
    "            sorted_dict[k] = A[k]\n",
    "\n",
    "print(sorted_dict)"
   ]
  },
  {
   "cell_type": "code",
   "execution_count": 12,
   "metadata": {},
   "outputs": [
    {
     "name": "stdout",
     "output_type": "stream",
     "text": [
      "Updated A: {82: 'Name', 99: 'ram', 2: 'dictionary', 9: 'Abhi'}\n",
      "Updated after adding 1: {82: 'Name', 99: 'ram', 2: 'dictionary', 9: 'Abhi'}\n"
     ]
    }
   ],
   "source": [
    "#Add key to dictionary\n",
    "A={82:\"Name\",99:\"ram\",2:\"dictionary\",9:\"Abhi\"}\n",
    "A[5]:\"Rbnb college Shriampur\"\n",
    "print(\"Updated A:\",A)\n",
    "A[1]:2589631479630.11346\n",
    "print(\"Updated after adding 1:\",A)"
   ]
  },
  {
   "cell_type": "code",
   "execution_count": 13,
   "metadata": {},
   "outputs": [
    {
     "name": "stdout",
     "output_type": "stream",
     "text": [
      "name Ravi\n",
      "age 23\n",
      "marks 56\n"
     ]
    }
   ],
   "source": [
    "#iteration over dictionary\n",
    "d1={'name': 'Ravi', 'age': 23, 'marks': 56}\n",
    "for k,v in d1.items():\n",
    "    print (k,v)"
   ]
  },
  {
   "cell_type": "code",
   "execution_count": null,
   "metadata": {},
   "outputs": [],
   "source": []
  }
 ],
 "metadata": {
  "kernelspec": {
   "display_name": "Python 3",
   "language": "python",
   "name": "python3"
  },
  "language_info": {
   "codemirror_mode": {
    "name": "ipython",
    "version": 3
   },
   "file_extension": ".py",
   "mimetype": "text/x-python",
   "name": "python",
   "nbconvert_exporter": "python",
   "pygments_lexer": "ipython3",
   "version": "3.8.10"
  }
 },
 "nbformat": 4,
 "nbformat_minor": 4
}
