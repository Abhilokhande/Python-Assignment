{
 "cells": [
  {
   "cell_type": "code",
   "execution_count": 4,
   "metadata": {},
   "outputs": [
    {
     "name": "stdout",
     "output_type": "stream",
     "text": [
      "Enter the Stringwrite a python pro\n",
      "Words with even lenght: python\n"
     ]
    }
   ],
   "source": [
    "#Print Even lenght word\n",
    "A=input(\"Enter the String\")\n",
    "B=A.split(\" \")\n",
    "for i in B:\n",
    "  if len(i)%2==0:\n",
    "    print(\"Words with even lenght:\",i)\n",
    " "
   ]
  },
  {
   "cell_type": "code",
   "execution_count": 7,
   "metadata": {},
   "outputs": [
    {
     "name": "stdout",
     "output_type": "stream",
     "text": [
      "enter stringabhijeet aeiou\n",
      "string accepted\n"
     ]
    }
   ],
   "source": [
    "s=input(\"enter string\")\n",
    "\n",
    "if(('a' in s)and('e' in s)and('i' in s)and('o' in s)and('u' in s)or\n",
    "   ('A' in s)and('E' in s)and('I' in s)and('O' in s)and('U' in s)):\n",
    "    print(\"string accepted\")\n",
    "else:\n",
    "    print(\"string not accepted because it does not contain all vowels\")\n",
    "        "
   ]
  },
  {
   "cell_type": "code",
   "execution_count": 8,
   "metadata": {},
   "outputs": [
    {
     "name": "stdout",
     "output_type": "stream",
     "text": [
      "enter first string:abcdefg\n",
      "enter second string:cdefgxvz\n",
      "number of matching elements: 5\n"
     ]
    }
   ],
   "source": [
    "#count no.of maching char\n",
    "a=input(\"enter first string:\")\n",
    "b=input(\"enter second string:\")\n",
    "c=list([])\n",
    "for ch in a:\n",
    "    if ch in b:\n",
    "        c.append(ch)\n",
    "\n",
    "print(\"number of matching elements:\",len(c))"
   ]
  },
  {
   "cell_type": "code",
   "execution_count": 9,
   "metadata": {},
   "outputs": [
    {
     "name": "stdout",
     "output_type": "stream",
     "text": [
      "unique elements:: [10, 20, 30, 40, 50]\n"
     ]
    }
   ],
   "source": [
    "#function to return unique elemnet of list\n",
    "def unique_list(numbers):\n",
    "    unique=[]\n",
    "    for item in numbers:\n",
    "        if item not in unique:\n",
    "            unique.append(item)\n",
    "    return unique\n",
    "\n",
    "\n",
    "\n",
    "print(\"unique elements::\",unique_list([10,20,30,40,50,50,40,30,20,10]))"
   ]
  },
  {
   "cell_type": "code",
   "execution_count": null,
   "metadata": {},
   "outputs": [],
   "source": [
    "#fuction to check number is prinme or not\n",
    "def prime(a):\n",
    "    for i in range (2,a) :\n",
    "        if a % i == 0 :\n",
    "            return \"This is not prime number\"\n",
    "    return \"Prime number\"\n",
    "\n",
    "a = int(input(\"Enter a number : \"))\n",
    "print(prime(a))\n"
   ]
  },
  {
   "cell_type": "code",
   "execution_count": null,
   "metadata": {},
   "outputs": [],
   "source": [
    "def perfect_number(n):\n",
    "    sum = 0\n",
    "    for x in range(1, n):\n",
    "        if n % x == 0:\n",
    "            sum += x\n",
    "    if(sum==n):\n",
    "        print(n)\n",
    "    return \"Number is Perfect number\"\n",
    "n=int(input(\"Enter the number to check\"))\n",
    "print(perfect_number(n))\n"
   ]
  },
  {
   "cell_type": "code",
   "execution_count": null,
   "metadata": {},
   "outputs": [],
   "source": []
  }
 ],
 "metadata": {
  "kernelspec": {
   "display_name": "Python 3",
   "language": "python",
   "name": "python3"
  },
  "language_info": {
   "codemirror_mode": {
    "name": "ipython",
    "version": 3
   },
   "file_extension": ".py",
   "mimetype": "text/x-python",
   "name": "python",
   "nbconvert_exporter": "python",
   "pygments_lexer": "ipython3",
   "version": "3.8.10"
  }
 },
 "nbformat": 4,
 "nbformat_minor": 4
}
